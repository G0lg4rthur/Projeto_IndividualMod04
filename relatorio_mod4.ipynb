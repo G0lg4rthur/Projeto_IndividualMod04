{
  "nbformat": 4,
  "nbformat_minor": 0,
  "metadata": {
    "colab": {
      "provenance": [],
      "collapsed_sections": [
        "D46NTRWaPHPw",
        "b-4CBm-TUPgz",
        "JKAvZ-bFUWeq",
        "c2AzEOGnUlXd"
      ]
    },
    "kernelspec": {
      "name": "python3",
      "display_name": "Python 3"
    },
    "language_info": {
      "name": "python"
    }
  },
  "cells": [
    {
      "cell_type": "markdown",
      "source": [],
      "metadata": {
        "id": "jS5WtRVCz364"
      }
    },
    {
      "cell_type": "markdown",
      "source": [
        "# <font color=yellow> Relatório e Análise</font>\n",
        "\n",
        "\n",
        "---\n",
        "\n",
        "\n",
        "  Este relatório tem o objetivo de demonstrar a importancia da análise dos dados de um projeto de desenvolvimento de software ao longo de uma semana. Os dados fornecidos permitirão ao proprietário da equipe de desenvolvimento obter insights sobre o progresso do projeto, indicar possíveis áreas de melhoria e tomar decisões informadas para garantir o sucesso do projeto.\n"
      ],
      "metadata": {
        "id": "R9NZnaS-0NV-"
      }
    },
    {
      "cell_type": "markdown",
      "source": [
        "Primeiro, importaremos as bibliotecas que serão utilizadas"
      ],
      "metadata": {
        "id": "bylFcVDb0pot"
      }
    },
    {
      "cell_type": "code",
      "source": [
        "import pandas as pd\n",
        "import numpy as np"
      ],
      "metadata": {
        "id": "BYNFK1Ad0GRc"
      },
      "execution_count": 4,
      "outputs": []
    },
    {
      "cell_type": "markdown",
      "source": [
        "Em seguida criamos as series para manipulação:\n"
      ],
      "metadata": {
        "id": "cuk7VGfJ35RC"
      }
    },
    {
      "cell_type": "code",
      "source": [
        "dia=pd.Series(['Segunda','Terca','Quarta','Quinta','Sexta','Sabado','Domingo'])\n",
        "horas_Trabalhadas=pd.Series([6,7,8,6,7,5,4])\n",
        "bugs_Corrigidos=pd.Series([3,2,1,4,3,2,1])\n",
        "tarefas_Concluidas=pd.Series([5,4,6,4,5,3,2])"
      ],
      "metadata": {
        "id": "-6_OfzY-JJna"
      },
      "execution_count": 7,
      "outputs": []
    },
    {
      "cell_type": "markdown",
      "source": [
        "##Sobre as horas trabalhadas"
      ],
      "metadata": {
        "id": "D46NTRWaPHPw"
      }
    },
    {
      "cell_type": "markdown",
      "source": [
        "Soma de horas trabalhadas durante o período da amostra"
      ],
      "metadata": {
        "id": "y-zei_M9WD-j"
      }
    },
    {
      "cell_type": "code",
      "source": [
        "total_de_Horas=horas_Trabalhadas.sum()\n",
        "total_de_Horas\n"
      ],
      "metadata": {
        "colab": {
          "base_uri": "https://localhost:8080/"
        },
        "id": "ckonmZXFPGwk",
        "outputId": "fe7c5929-f6be-4cb1-9ffd-3c2a8a6b6bf6"
      },
      "execution_count": 14,
      "outputs": [
        {
          "output_type": "execute_result",
          "data": {
            "text/plain": [
              "43"
            ]
          },
          "metadata": {},
          "execution_count": 14
        }
      ]
    },
    {
      "cell_type": "markdown",
      "source": [
        "Media de horas trabalhadas durante o período da amostra"
      ],
      "metadata": {
        "id": "wsaIPKfwWYBp"
      }
    },
    {
      "cell_type": "code",
      "source": [
        "df_media=pd.Series(horas_Trabalhadas)\n",
        "media_diaria_horas= df_media.mean()\n",
        "media_diaria_horas"
      ],
      "metadata": {
        "colab": {
          "base_uri": "https://localhost:8080/"
        },
        "id": "xgc93zL0PuaW",
        "outputId": "1d3b0874-11a1-4d43-b1dd-1619cd82de47"
      },
      "execution_count": 15,
      "outputs": [
        {
          "output_type": "execute_result",
          "data": {
            "text/plain": [
              "6.142857142857143"
            ]
          },
          "metadata": {},
          "execution_count": 15
        }
      ]
    },
    {
      "cell_type": "markdown",
      "source": [
        "##Sobre bugs corrigidos"
      ],
      "metadata": {
        "id": "b-4CBm-TUPgz"
      }
    },
    {
      "cell_type": "markdown",
      "source": [
        "Soma de bugs corrigidos durante o período da amostra"
      ],
      "metadata": {
        "id": "kmJR_88aWkgU"
      }
    },
    {
      "cell_type": "code",
      "source": [
        "total_de_Bugs_Corrigidos=bugs_Corrigidos.sum()\n",
        "total_de_Bugs_Corrigidos"
      ],
      "metadata": {
        "colab": {
          "base_uri": "https://localhost:8080/"
        },
        "id": "VAsrVULcRiKf",
        "outputId": "5005703c-e417-494f-a930-d37a193cd44e"
      },
      "execution_count": 16,
      "outputs": [
        {
          "output_type": "execute_result",
          "data": {
            "text/plain": [
              "16"
            ]
          },
          "metadata": {},
          "execution_count": 16
        }
      ]
    },
    {
      "cell_type": "markdown",
      "source": [
        "Media de bugs corrigidos durante o período da amostra"
      ],
      "metadata": {
        "id": "6tq4q9RvW54X"
      }
    },
    {
      "cell_type": "code",
      "source": [
        "df_media=pd.Series(bugs_Corrigidos)\n",
        "media_diaria_bugs_corrigidos=df_media.mean()\n",
        "media_diaria_bugs_corrigidos"
      ],
      "metadata": {
        "colab": {
          "base_uri": "https://localhost:8080/"
        },
        "id": "r9WLDsAdRygN",
        "outputId": "80c8cabf-2ec9-4ed9-d1af-6094bd2347b6"
      },
      "execution_count": 17,
      "outputs": [
        {
          "output_type": "execute_result",
          "data": {
            "text/plain": [
              "2.2857142857142856"
            ]
          },
          "metadata": {},
          "execution_count": 17
        }
      ]
    },
    {
      "cell_type": "markdown",
      "source": [
        "##Sobre tarefas concluídas"
      ],
      "metadata": {
        "id": "JKAvZ-bFUWeq"
      }
    },
    {
      "cell_type": "markdown",
      "source": [
        "Soma de tarefas concluídas durante o período da amostra"
      ],
      "metadata": {
        "id": "kWIKi7mBWxzd"
      }
    },
    {
      "cell_type": "code",
      "source": [
        "total_tarefas_concluidas=tarefas_Concluidas.sum()\n",
        "total_tarefas_concluidas"
      ],
      "metadata": {
        "colab": {
          "base_uri": "https://localhost:8080/"
        },
        "id": "8M6akT1RSY5G",
        "outputId": "cf2abe52-68cd-4d4b-c813-6106954c2837"
      },
      "execution_count": 18,
      "outputs": [
        {
          "output_type": "execute_result",
          "data": {
            "text/plain": [
              "29"
            ]
          },
          "metadata": {},
          "execution_count": 18
        }
      ]
    },
    {
      "cell_type": "markdown",
      "source": [
        "Media de tarefas concluidas por dia durante o período da amostra"
      ],
      "metadata": {
        "id": "jvyfwbWpW-3y"
      }
    },
    {
      "cell_type": "code",
      "source": [
        "df_media=pd.Series(tarefas_Concluidas)\n",
        "media_diaria_tarefas_Concluidas=df_media.mean()\n",
        "media_diaria_tarefas_Concluidas"
      ],
      "metadata": {
        "colab": {
          "base_uri": "https://localhost:8080/"
        },
        "id": "9ei4JIwaSn-m",
        "outputId": "6bdae520-7425-4771-bc90-669651e19e3e"
      },
      "execution_count": 19,
      "outputs": [
        {
          "output_type": "execute_result",
          "data": {
            "text/plain": [
              "4.142857142857143"
            ]
          },
          "metadata": {},
          "execution_count": 19
        }
      ]
    },
    {
      "cell_type": "markdown",
      "source": [
        "##Sobre a produtivade diaria"
      ],
      "metadata": {
        "id": "c2AzEOGnUlXd"
      }
    },
    {
      "cell_type": "code",
      "source": [
        "prod_diaria=(total_tarefas_concluidas/total_de_Horas)\n",
        "prod_diaria"
      ],
      "metadata": {
        "colab": {
          "base_uri": "https://localhost:8080/"
        },
        "id": "wyRDF7obThYP",
        "outputId": "4ca29e19-d70d-45c0-9cfd-c03c5403ea5c"
      },
      "execution_count": 20,
      "outputs": [
        {
          "output_type": "execute_result",
          "data": {
            "text/plain": [
              "0.6744186046511628"
            ]
          },
          "metadata": {},
          "execution_count": 20
        }
      ]
    }
  ]
}